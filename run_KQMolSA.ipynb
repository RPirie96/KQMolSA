{
 "cells": [
  {
   "cell_type": "markdown",
   "id": "e95db7ba",
   "metadata": {},
   "source": [
    "# Riemannian Geometry for Molecular Surface Approximation (RGMolSA)\n",
    "\n",
    "**Contributing Authors:** Stuart J. Hall, Daniel J. Cole, Thomas Murphy, Rachael M. E. Pirie\n",
    "\n",
    "This notebook accompanies our [paper](https://arxiv.org/pdf/2301.04424.pdf) detailing a novel method for molecular surface approximation based on Riemannian Geometry. The descriptor produced in this notebook represents the (2k+1)x(2k+1) Hermitian matrix associated with the surface. \n",
    "\n",
    "This notebook can be used to replicate the small screen detailed in the paper, comparing the shape of a series of PDE5 inhibitors known to have similar shape. Note that the method is currently still under development, and this notebook is not designed to be used for full virtual screens. "
   ]
  },
  {
   "cell_type": "code",
   "execution_count": null,
   "id": "56a40f69",
   "metadata": {
    "scrolled": true
   },
   "outputs": [],
   "source": [
    "import sys\n",
    "import os\n",
    "sys.path.append('../KQMolSA/scripts')  # replace with path to python scripts\n",
    "import numpy as np\n",
    "\n",
    "from utils import get_score\n",
    "from get_descriptor import get_descriptor\n",
    "\n",
    "from rdkit.Chem import PandasTools, Draw\n",
    "\n",
    "root = '../KQMolSA/data'  # specify directory containing data"
   ]
  },
  {
   "cell_type": "code",
   "execution_count": null,
   "id": "769cfa8c",
   "metadata": {},
   "outputs": [],
   "source": [
    "# define values of k to consider\n",
    "k_vals = [1, 2]"
   ]
  },
  {
   "cell_type": "markdown",
   "id": "8345084b",
   "metadata": {},
   "source": [
    "## Single Conformer\n",
    "\n",
    "The following cells compute the descriptor and calculate the similarity of a single conformer for each of Sildenafil, Vardenafil and Tadalafil. "
   ]
  },
  {
   "cell_type": "code",
   "execution_count": null,
   "id": "64ea91d8",
   "metadata": {},
   "outputs": [],
   "source": [
    "# load data\n",
    "data = PandasTools.LoadSDF(os.path.join(root, 'SVT.sdf'))  # replace with path to data\n",
    "mols = list(data['ROMol'])"
   ]
  },
  {
   "cell_type": "code",
   "execution_count": null,
   "id": "db28b573",
   "metadata": {
    "scrolled": true
   },
   "outputs": [],
   "source": [
    "# visualise molecules\n",
    "Draw.MolsToGridImage(mols)"
   ]
  },
  {
   "cell_type": "code",
   "execution_count": null,
   "id": "d6b78eb6",
   "metadata": {},
   "outputs": [],
   "source": [
    "# get the shape descriptor for each molecule in the list\n",
    "descriptor = [get_descriptor(mol, k_vals) for mol in mols]\n",
    "\n",
    "print(descriptor)"
   ]
  },
  {
   "cell_type": "code",
   "execution_count": null,
   "id": "9805652c",
   "metadata": {},
   "outputs": [],
   "source": [
    "# compute the distance between molecules\n",
    "# function returns the absolute distance and the similarity score between 0 and 1 and \"self\" for self comparison\n",
    "\n",
    "scores1, scores2 = np.empty((len(descriptor), len(descriptor)), dtype=object), np.empty((len(descriptor), len(descriptor)), dtype=object)\n",
    "\n",
    "for i in range(len(descriptor)):\n",
    "    sa_query = descriptor[i].surface_area\n",
    "    for j in range(len(descriptor)):\n",
    "        sa_test = descriptor[j].surface_area\n",
    "        d_k1, sim_score_k1, x0 = get_score(descriptor[i].kq_shape[0], descriptor[j].kq_shape[0], sa_query, sa_test, k_vals[0], i, j)\n",
    "        d_k2, sim_score_k2, x0 = get_score(descriptor[i].kq_shape[1], descriptor[j].kq_shape[1], sa_query, sa_test, k_vals[1], i, j, x0)\n",
    "        \n",
    "        #append shape scores for each k\n",
    "        scores1[i][j] = sim_score_k1\n",
    "        scores2[i][j] = sim_score_k2"
   ]
  },
  {
   "cell_type": "code",
   "execution_count": null,
   "id": "e404d617",
   "metadata": {
    "scrolled": true
   },
   "outputs": [],
   "source": [
    "print(scores1)"
   ]
  },
  {
   "cell_type": "code",
   "execution_count": null,
   "id": "d5f6ec7f",
   "metadata": {},
   "outputs": [],
   "source": [
    "print(scores2)"
   ]
  },
  {
   "cell_type": "markdown",
   "id": "06d7d8db",
   "metadata": {},
   "source": [
    "## Multi-Conformer Similarity\n",
    "\n",
    "The following cells compute the similarity between different conformers of the same molecule. The supplied datasets provide 11 random and 11 low energy conformers for Sildenafil, Vardenafil and Tadalafil, generated using RDKit. "
   ]
  },
  {
   "cell_type": "code",
   "execution_count": null,
   "id": "5dd0c2db",
   "metadata": {},
   "outputs": [],
   "source": [
    "# Sildenafil Random Conformers\n",
    "\n",
    "# load data\n",
    "data = PandasTools.LoadSDF(os.path.join(root, 'sildenafil_confs_10random.sdf')) \n",
    "sildenafil_random = list(data['ROMol'])\n",
    "\n",
    "# get descriptors\n",
    "sildenafil_random_descriptors = [get_descriptor(mol, k_vals) for mol in sildenafil_random]  \n",
    "\n",
    "# compute similarity\n",
    "scores_sildenafil_random1, scores_sildenafil_random2 = np.empty((len(sildenafil_random_descriptors), len(sildenafil_random_descriptors)), dtype=object), np.empty((len(sildenafil_random_descriptors), len(sildenafil_random_descriptors)), dtype=object)\n",
    "\n",
    "for i in range(len(sildenafil_random_descriptors)):\n",
    "    sa_query = sildenafil_random_descriptors[i].surface_area\n",
    "    for j in range(len(sildenafil_random_descriptors)):\n",
    "        sa_test = sildenafil_random_descriptors[j].surface_area\n",
    "        d_k1, sim_score_k1, x0 = get_score(sildenafil_random_descriptors[i].kq_shape[0], sildenafil_random_descriptors[j].kq_shape[0], sa_query, sa_test, k_vals[0], i, j)\n",
    "        d_k2, sim_score_k2, x0 = get_score(sildenafil_random_descriptors[i].kq_shape[1], sildenafil_random_descriptors[j].kq_shape[1], sa_query, sa_test, k_vals[1], i, j, x0)\n",
    "        \n",
    "        #append shape scores for each k\n",
    "        scores_sildenafil_random1[i][j] = sim_score_k1\n",
    "        scores_sildenafil_random2[i][j] = sim_score_k2\n",
    "\n",
    "print(scores_sildenafil_random1)\n",
    "print(scores_sildenafil_random2)"
   ]
  },
  {
   "cell_type": "code",
   "execution_count": null,
   "id": "0ee8c03a",
   "metadata": {},
   "outputs": [],
   "source": [
    "# Sildenafil Low Energy Conformers\n",
    "\n",
    "# load data\n",
    "data = PandasTools.LoadSDF(os.path.join(root, 'sildenafil_confs_10.sdf')) \n",
    "sildenafil_lowe = list(data['ROMol'])\n",
    "\n",
    "# get descriptors\n",
    "sildenafil_lowe_descriptors = [get_descriptor(mol, k_vals) for mol in sildenafil_lowe] \n",
    "\n",
    "# compute similarity\n",
    "scores_sildenafil_lowe1, scores_sildenafil_lowe2 = np.empty((len(sildenafil_lowe_descriptors), len(sildenafil_lowe_descriptors)), dtype=object), np.empty((len(sildenafil_lowe_descriptors), len(sildenafil_lowe_descriptors)), dtype=object)\n",
    "\n",
    "for i in range(len(sildenafil_lowe_descriptors)):\n",
    "    sa_query = sildenafil_lowe_descriptors[i].surface_area\n",
    "    for j in range(len(sildenafil_lowe_descriptors)):\n",
    "        sa_test = sildenafil_lowe_descriptors[j].surface_area\n",
    "        d_k1, sim_score_k1, x0 = get_score(sildenafil_lowe_descriptors[i].kq_shape[0], sildenafil_lowe_descriptors[j].kq_shape[0], sa_query, sa_test, k_vals[0], i, j)\n",
    "        d_k2, sim_score_k2, x0 = get_score(sildenafil_lowe_descriptors[i].kq_shape[1], sildenafil_lowe_descriptors[j].kq_shape[1], sa_query, sa_test, k_vals[1], i, j, x0)\n",
    "        \n",
    "        #append shape scores for each k\n",
    "        scores_sildenafil_lowe1[i][j] = sim_score_k1\n",
    "        scores_sildenafil_lowe2[i][j] = sim_score_k2\n",
    "\n",
    "print('Scores k=1: ')        \n",
    "print(scores_sildenafil_lowe1)\n",
    "print('Scores k=2: ') \n",
    "print(scores_sildenafil_lowe2)"
   ]
  },
  {
   "cell_type": "code",
   "execution_count": null,
   "id": "83c1486d",
   "metadata": {},
   "outputs": [],
   "source": [
    "# Vardenafil Random Conformers\n",
    "\n",
    "# load data\n",
    "data = PandasTools.LoadSDF(os.path.join(root, 'vardenafil_confs_10random.sdf')) \n",
    "vardenafil_random = list(data['ROMol'])\n",
    "\n",
    "# get descriptors\n",
    "vardenafil_random_descriptors = [get_descriptor(mol, k_vals) for mol in vardenafil_random]  \n",
    "\n",
    "# compute similarity\n",
    "scores_vardenafil_random1, scores_vardenafil_random2 = np.empty((len(vardenafil_random_descriptors), len(vardenafil_random_descriptors)), dtype=object), np.empty((len(vardenafil_random_descriptors), len(vardenafil_random_descriptors)), dtype=object)\n",
    "\n",
    "for i in range(len(vardenafil_random_descriptors)):\n",
    "    sa_query = vardenafil_random_descriptors[i].surface_area\n",
    "    for j in range(len(vardenafil_random_descriptors)):\n",
    "        sa_test = vardenafil_random_descriptors[j].surface_area\n",
    "        d_k1, sim_score_k1, x0 = get_score(vardenafil_random_descriptors[i].kq_shape[0], vardenafil_random_descriptors[j].kq_shape[0], sa_query, sa_test, k_vals[0], i, j)\n",
    "        d_k2, sim_score_k2, x0 = get_score(vardenafil_random_descriptors[i].kq_shape[1], vardenafil_random_descriptors[j].kq_shape[1], sa_query, sa_test, k_vals[1], i, j, x0)\n",
    "        \n",
    "        #append shape scores for each k\n",
    "        scores_vardenafil_random1[i][j] = sim_score_k1\n",
    "        scores_vardenafil_random2[i][j] = sim_score_k2\n",
    "\n",
    "print('Scores k=1: ')         \n",
    "print(scores_vardenafil_random1)\n",
    "print('Scores k=2: ') \n",
    "print(scores_vardenafil_random2)"
   ]
  },
  {
   "cell_type": "code",
   "execution_count": null,
   "id": "9da08d6f",
   "metadata": {},
   "outputs": [],
   "source": [
    "# Vardenafil Low Energy Conformers\n",
    "\n",
    "# load data\n",
    "data = PandasTools.LoadSDF(os.path.join(root, 'vardenafil_confs_10.sdf')) \n",
    "vardenafil_lowe = list(data['ROMol'])\n",
    "\n",
    "# get descriptors\n",
    "vardenafil_lowe_descriptors = [get_descriptor(mol, k_vals) for mol in vardenafil_lowe] \n",
    "\n",
    "# compute similarity\n",
    "scores_vardenafil_lowe1, scores_vardenafil_lowe2 = np.empty((len(vardenafil_lowe_descriptors), len(vardenafil_lowe_descriptors)), dtype=object), np.empty((len(vardenafil_lowe_descriptors), len(vardenafil_lowe_descriptors)), dtype=object)\n",
    "\n",
    "for i in range(len(vardenafil_lowe_descriptors)):\n",
    "    sa_query = vardenafil_lowe_descriptors[i].surface_area\n",
    "    for j in range(len(vardenafil_lowe_descriptors)):\n",
    "        sa_test = vardenafil_lowe_descriptors[j].surface_area\n",
    "        d_k1, sim_score_k1, x0 = get_score(vardenafil_lowe_descriptors[i].kq_shape[0], vardenafil_lowe_descriptors[j].kq_shape[0], sa_query, sa_test, k_vals[0], i, j)\n",
    "        d_k2, sim_score_k2, x0 = get_score(vardenafil_lowe_descriptors[i].kq_shape[1], vardenafil_lowe_descriptors[j].kq_shape[1], sa_query, sa_test, k_vals[1], i, j, x0)\n",
    "        \n",
    "        #append shape scores for each k\n",
    "        scores_vardenafil_lowe1[i][j] = sim_score_k1\n",
    "        scores_vardenafil_lowe2[i][j] = sim_score_k2\n",
    "\n",
    "print('Scores k=1: ') \n",
    "print(scores_vardenafil_lowe1)\n",
    "print('Scores k=2: ') \n",
    "print(scores_vardenafil_lowe2)"
   ]
  },
  {
   "cell_type": "code",
   "execution_count": null,
   "id": "c5354f69",
   "metadata": {},
   "outputs": [],
   "source": [
    "# Tadalafil Random Conformers\n",
    "\n",
    "# load data\n",
    "data = PandasTools.LoadSDF(os.path.join(root, 'tadalafil_confs_10random.sdf')) \n",
    "tadalafil_random = list(data['ROMol'])\n",
    "\n",
    "# get descriptors\n",
    "tadalafil_random_descriptors = [get_descriptor(mol, k_vals) for mol in tadalafil_random]  \n",
    "\n",
    "# compute similarity\n",
    "scores_tadalafil_random1, scores_tadalafil_random2 = np.empty((len(tadalafil_random_descriptors), len(tadalafil_random_descriptors)), dtype=object), np.empty((len(tadalafil_random_descriptors), len(tadalafil_random_descriptors)), dtype=object)\n",
    "\n",
    "for i in range(len(tadalafil_random_descriptors)):\n",
    "    sa_query = tadalafil_random_descriptors[i].surface_area\n",
    "    for j in range(len(tadalafil_random_descriptors)):\n",
    "        sa_test = tadalafil_random_descriptors[j].surface_area\n",
    "        d_k1, sim_score_k1, x0 = get_score(tadalafil_random_descriptors[i].kq_shape[0], tadalafil_random_descriptors[j].kq_shape[0], sa_query, sa_test, k_vals[0], i, j)\n",
    "        d_k2, sim_score_k2, x0 = get_score(tadalafil_random_descriptors[i].kq_shape[1], tadalafil_random_descriptors[j].kq_shape[1], sa_query, sa_test, k_vals[1], i, j, x0)\n",
    "        \n",
    "        #append shape scores for each k\n",
    "        scores_tadalafil_random1[i][j] = sim_score_k1\n",
    "        scores_tadalafil_random2[i][j] = sim_score_k2\n",
    "\n",
    "print('Scores k=1: ')         \n",
    "print(scores_tadalafil_random1)\n",
    "print('Scores k=2: ') \n",
    "print(scores_tadalafil_random2)"
   ]
  },
  {
   "cell_type": "code",
   "execution_count": null,
   "id": "ee06a119",
   "metadata": {},
   "outputs": [],
   "source": [
    "# Tadalafil Low Energy Conformers\n",
    "\n",
    "# load data\n",
    "data = PandasTools.LoadSDF(os.path.join(root, 'tadalafil_confs_10.sdf')) \n",
    "tadalafil_lowe = list(data['ROMol'])\n",
    "\n",
    "# get descriptors\n",
    "tadalafil_lowe_descriptors = [get_descriptor(mol, k_vals) for mol in tadalafil_lowe] \n",
    "\n",
    "# compute similarity\n",
    "scores_tadalafil_lowe1, scores_tadalafil_lowe2 = np.empty((len(tadalafil_lowe_descriptors), len(tadalafil_lowe_descriptors)), dtype=object), np.empty((len(tadalafil_lowe_descriptors), len(tadalafil_lowe_descriptors)), dtype=object)\n",
    "\n",
    "for i in range(len(tadalafil_lowe_descriptors)):\n",
    "    sa_query = tadalafil_lowe_descriptors[i].surface_area\n",
    "    for j in range(len(tadalafil_lowe_descriptors)):\n",
    "        sa_test = tadalafil_lowe_descriptors[j].surface_area\n",
    "        d_k1, sim_score_k1, x0 = get_score(tadalafil_lowe_descriptors[i].kq_shape[0], tadalafil_lowe_descriptors[j].kq_shape[0], sa_query, sa_test, k_vals[0], i, j)\n",
    "        d_k2, sim_score_k2, x0 = get_score(tadalafil_lowe_descriptors[i].kq_shape[1], tadalafil_lowe_descriptors[j].kq_shape[1], sa_query, sa_test, k_vals[1], i, j, x0)\n",
    "        \n",
    "        #append shape scores for each k\n",
    "        scores_tadalafil_lowe1[i][j] = sim_score_k1\n",
    "        scores_tadalafil_lowe2[i][j] = sim_score_k2\n",
    "\n",
    "print('Scores k=1: ') \n",
    "print(scores_tadalafil_lowe1)\n",
    "print('Scores k=2: ') \n",
    "print(scores_tadalafil_lowe2)"
   ]
  },
  {
   "cell_type": "code",
   "execution_count": null,
   "id": "149d1be0",
   "metadata": {},
   "outputs": [],
   "source": []
  }
 ],
 "metadata": {
  "kernelspec": {
   "display_name": "Python [conda env:kqmolsa]",
   "language": "python",
   "name": "conda-env-kqmolsa-py"
  },
  "language_info": {
   "codemirror_mode": {
    "name": "ipython",
    "version": 3
   },
   "file_extension": ".py",
   "mimetype": "text/x-python",
   "name": "python",
   "nbconvert_exporter": "python",
   "pygments_lexer": "ipython3",
   "version": "3.11.0"
  }
 },
 "nbformat": 4,
 "nbformat_minor": 5
}
